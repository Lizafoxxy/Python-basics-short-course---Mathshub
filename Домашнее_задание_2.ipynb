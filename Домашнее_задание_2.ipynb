{
  "nbformat": 4,
  "nbformat_minor": 0,
  "metadata": {
    "colab": {
      "provenance": []
    },
    "kernelspec": {
      "name": "python3",
      "display_name": "Python 3"
    },
    "language_info": {
      "name": "python"
    }
  },
  "cells": [
    {
      "cell_type": "markdown",
      "source": [
        "Задача 1.  Напишите программу, которая принимает на вход два числа - делимое и делитель, а затем выводит на экран строчку содержащую остаток от деления и целую часть."
      ],
      "metadata": {
        "id": "XQcmCe79hx60"
      }
    },
    {
      "cell_type": "code",
      "execution_count": null,
      "metadata": {
        "id": "qMP47e5shctx",
        "colab": {
          "base_uri": "https://localhost:8080/"
        },
        "outputId": "90bbe82f-c2b6-4d4c-a107-6556c0764583"
      },
      "outputs": [
        {
          "output_type": "stream",
          "name": "stdout",
          "text": [
            "Введите делимое: 5.5\n",
            "Введите делитель: 2\n",
            "Остаток от деления: 1.5, целая часть: 2.0\n"
          ]
        }
      ],
      "source": [
        "a = eval(input(\"Введите делимое: \"))\n",
        "b = eval(input(\"Введите делитель: \"))\n",
        "print(f\"Остаток от деления: {a%b}, целая часть: {a//b}\")"
      ]
    },
    {
      "cell_type": "markdown",
      "source": [
        "Задача 2. Напишите программу, которая запрашивает у пользователя количество минут прошедших с начала дня, а затем выводит на экран, сколько часов осталось до конца дня и сколько минут прошло с начала текущего часа."
      ],
      "metadata": {
        "id": "SK_3vNY9hwpX"
      }
    },
    {
      "cell_type": "code",
      "source": [
        "a = int(input(\"Сколько минут прошло с начала дня: \"))\n",
        "print(f\"До конца дня осталось: {(1440-a)//60} часов, а от начала текущего часа прошло: {(a%60)} минут.\")"
      ],
      "metadata": {
        "id": "7mqsqpkmh_y_",
        "colab": {
          "base_uri": "https://localhost:8080/"
        },
        "outputId": "dcde2e19-49d2-4c16-a244-b5421d026ac1"
      },
      "execution_count": null,
      "outputs": [
        {
          "output_type": "stream",
          "name": "stdout",
          "text": [
            "Сколько минут прошло с начала дня: 120\n",
            "До конца дня осталось: 22 часов, а от начала текущего часа прошло: 0 минут.\n"
          ]
        }
      ]
    },
    {
      "cell_type": "markdown",
      "source": [
        "Задача 3. У нас есть два булевых переменные,\"isstudent\" и \"hasjob\" - обе эти переменные могут быть либо True, либо False. Нам нужно вывести на экран, правда ли, что пользователь студент и имеет работу одновременно.\n"
      ],
      "metadata": {
        "id": "r4VXt0C-ilYf"
      }
    },
    {
      "cell_type": "code",
      "source": [
        "isstudent = True\n",
        "hasjob = True\n",
        "print(isstudent and hasjob)"
      ],
      "metadata": {
        "id": "Lb9oR27HimNc",
        "colab": {
          "base_uri": "https://localhost:8080/"
        },
        "outputId": "abeed1ab-e09c-4950-97e8-06e15389fa64"
      },
      "execution_count": null,
      "outputs": [
        {
          "output_type": "stream",
          "name": "stdout",
          "text": [
            "True\n"
          ]
        }
      ]
    },
    {
      "cell_type": "markdown",
      "source": [
        "Задача 4.У нас есть переменные isweekend и issunny, обе из которых могут быть либо True, либо False. Мы хотим определить, произойдет ли поездка на пикник. Мы планируем отправиться на пикник, если это выходной день или если погода солнечная. Выведите, правда ли, что мы едем на пикник"
      ],
      "metadata": {
        "id": "vgFicbGAimp2"
      }
    },
    {
      "cell_type": "code",
      "source": [
        "isweekend = True\n",
        "issunny = True\n",
        "day = input(\"Сегодня выходной: да или нет? \")\n",
        "if day == 'да':\n",
        "  isweekend = True\n",
        "elif day == 'нет':\n",
        "  isweekend = False\n",
        "sunny = input(\"Сегодня солнечно: да или нет? \")\n",
        "if sunny == 'да':\n",
        "  issunny = True\n",
        "elif sunny == 'нет':\n",
        "  issunny = False\n",
        "if isweekend or issunny:\n",
        "  print(\"Мы едем на пикник!\")\n",
        "elif not isweekend and not issunny:\n",
        "  print(\"Сегодня никакого пикника!\")"
      ],
      "metadata": {
        "id": "mxH-a2Vsinf_",
        "colab": {
          "base_uri": "https://localhost:8080/"
        },
        "outputId": "840d7c20-2550-48cf-9148-eee311241d9b"
      },
      "execution_count": null,
      "outputs": [
        {
          "output_type": "stream",
          "name": "stdout",
          "text": [
            "Сегодня выходной: да или нет? нет\n",
            "Сегодня солнечно: да или нет? да\n",
            "Мы едем на пикник!\n"
          ]
        }
      ]
    },
    {
      "cell_type": "markdown",
      "source": [
        "Задача 5. Напишите программу, которая принимает строку от пользователя и выводит первые пять символов этой строки."
      ],
      "metadata": {
        "id": "tHONemCgin1X"
      }
    },
    {
      "cell_type": "code",
      "source": [
        "a = input(\"Введите какой-нибудь текст: \")\n",
        "print(f\"Первые пять символов вашего текста: {a[:5]}\")"
      ],
      "metadata": {
        "id": "nlym9qaYiovi",
        "colab": {
          "base_uri": "https://localhost:8080/"
        },
        "outputId": "f9d3ea1e-b9e9-4911-bf8e-f6c828c5f5c9"
      },
      "execution_count": null,
      "outputs": [
        {
          "output_type": "stream",
          "name": "stdout",
          "text": [
            "Введите какой-нибудь текст: Проверочка что получилось\n",
            "Первые пять символов вашего текста: Прове\n"
          ]
        }
      ]
    },
    {
      "cell_type": "markdown",
      "source": [
        "Задача 6. Напишите программу, которая принимает строку от пользователя и выводит все символы начиная со второго и до предпоследнего символа этой строки."
      ],
      "metadata": {
        "id": "QH36U1dhipEB"
      }
    },
    {
      "cell_type": "code",
      "source": [
        "a = input(\"Введите какой-нибудь текст: \")\n",
        "print(f\"Со второго символа и до конца: {a[1:]}\")"
      ],
      "metadata": {
        "id": "viKBNJ-jip_9",
        "colab": {
          "base_uri": "https://localhost:8080/"
        },
        "outputId": "f206c962-99ce-4841-8f75-66da3fd7de26"
      },
      "execution_count": null,
      "outputs": [
        {
          "output_type": "stream",
          "name": "stdout",
          "text": [
            "Введите какой-нибудь текст: Проверочка что получилось\n",
            "Со второго символа и до конца: роверочка что получилось\n"
          ]
        }
      ]
    },
    {
      "cell_type": "markdown",
      "source": [
        "Задача 7. Напишите программу, которая принимает строку от пользователя и выводит каждый третий символ строки"
      ],
      "metadata": {
        "id": "r5p5mIkjiqWh"
      }
    },
    {
      "cell_type": "code",
      "source": [
        "a = input(\"Введите какой-нибудь текст: \")\n",
        "print(f\"Каждый третий символ: {a[2::3]}\")\n"
      ],
      "metadata": {
        "id": "PYzIebYoirwR",
        "colab": {
          "base_uri": "https://localhost:8080/"
        },
        "outputId": "868c46e8-70a8-46ad-cec4-74bde7de61bd"
      },
      "execution_count": null,
      "outputs": [
        {
          "output_type": "stream",
          "name": "stdout",
          "text": [
            "Введите какой-нибудь текст: Длинная очень длинная строка\n",
            "Каждый третий символ: иаонднятк\n"
          ]
        }
      ]
    },
    {
      "cell_type": "markdown",
      "source": [
        "Задача 8. Уберите из test_list банан и добавьте в конец получившегося списка киви. Выведите на экран получившийся список"
      ],
      "metadata": {
        "id": "Tw2Dr4WFj0e_"
      }
    },
    {
      "cell_type": "code",
      "source": [
        "test_list = [\"апельсин\", \"ананас\", \"банан\", \"яблоко\"]\n",
        "test_list.remove(\"банан\")  # или test_list.pop(2)\n",
        "test_list.append(\"киви\")\n",
        "print(test_list)\n",
        "\n"
      ],
      "metadata": {
        "id": "b1-w0JCNkC8i",
        "colab": {
          "base_uri": "https://localhost:8080/"
        },
        "outputId": "27a6ca73-4fd0-4f1d-8e85-1aa3724fdf3a"
      },
      "execution_count": null,
      "outputs": [
        {
          "output_type": "stream",
          "name": "stdout",
          "text": [
            "['апельсин', 'ананас', 'яблоко', 'киви']\n"
          ]
        }
      ]
    }
  ]
}